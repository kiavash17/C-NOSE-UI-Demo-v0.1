{
 "cells": [
  {
   "cell_type": "code",
   "execution_count": 5,
   "metadata": {},
   "outputs": [
    {
     "name": "stdout",
     "output_type": "stream",
     "text": [
      "Sending request to OpenAI API...\n",
      "ChatCompletion(id='chatcmpl-AWTAXNSkEgvBsB7fWlVg9RT4BVD1l', choices=[Choice(finish_reason='stop', index=0, logprobs=None, message=ChatCompletionMessage(content='```json\\n{\\n  \"odorants\": [\\n    {\\n      \"name\": \"Caffeine\",\\n      \"percentage\": 25\\n    },\\n    {\\n      \"name\": \"Furfuryl mercaptan\",\\n      \"percentage\": 20\\n    },\\n    {\\n      \"name\": \"2-ethylphenol\",\\n      \"percentage\": 15\\n    },\\n    {\\n      \"name\": \"Acetic acid\",\\n      \"percentage\": 10\\n    },\\n    {\\n      \"name\": \"Vanillin\",\\n      \"percentage\": 15\\n    },\\n    {\\n      \"name\": \"2,3-butanedione\",\\n      \"percentage\": 15\\n    }\\n  ]\\n}\\n```', refusal=None, role='assistant', audio=None, function_call=None, tool_calls=None))], created=1732301985, model='gpt-4o-mini-2024-07-18', object='chat.completion', service_tier=None, system_fingerprint='fp_0705bf87c0', usage=CompletionUsage(completion_tokens=142, prompt_tokens=75, total_tokens=217, completion_tokens_details=CompletionTokensDetails(accepted_prediction_tokens=0, audio_tokens=0, reasoning_tokens=0, rejected_prediction_tokens=0), prompt_tokens_details=PromptTokensDetails(audio_tokens=0, cached_tokens=0)))\n"
     ]
    }
   ],
   "source": [
    "from backend.pipeline import calculate_cartridge_activations, query_openai_api\n",
    "from backend.utils import clean_openai_response\n",
    "# compound_mix = [{'name': 'Caffeol', 'percentage': 30}, {'name': '2-Furfurylthiol', 'percentage': 25}, {'name': 'Acetic Acid', 'percentage': 15}, {'name': 'Vanillin', 'percentage': 15}, {'name': '2,3-Butanedione', 'percentage': 10}, {'name': 'Linalool', 'percentage': 5}]\n",
    "compound_mix_raw = query_openai_api({\"coffee\"})\n",
    "compound_mix = clean_openai_response(compound_mix_raw)\n",
    "\n",
    "# Calculate cartridge activations and approximation accuracy\n",
    "cartridge_data = calculate_cartridge_activations(compound_mix[\"odorants\"])\n",
    "cartridge_activations = cartridge_data[\"cartridge_activations\"]\n",
    "approximation_accuracy = cartridge_data[\"approximation_accuracy\"]"
   ]
  },
  {
   "cell_type": "code",
   "execution_count": 10,
   "metadata": {},
   "outputs": [
    {
     "data": {
      "text/plain": [
       "np.float64(69.78384977218728)"
      ]
     },
     "execution_count": 10,
     "metadata": {},
     "output_type": "execute_result"
    }
   ],
   "source": [
    "approximation_accuracy"
   ]
  },
  {
   "cell_type": "code",
   "execution_count": null,
   "metadata": {},
   "outputs": [
    {
     "data": {
      "text/plain": [
       "{'odorants': [{'name': 'Caffeol', 'percentage': 30},\n",
       "  {'name': 'Furfuryl alcohol', 'percentage': 25},\n",
       "  {'name': '2-ethyl-3,5-dimethylpyrazine', 'percentage': 20},\n",
       "  {'name': 'Acetic acid', 'percentage': 15},\n",
       "  {'name': 'Vanillin', 'percentage': 10}]}"
      ]
     },
     "execution_count": 20,
     "metadata": {},
     "output_type": "execute_result"
    }
   ],
   "source": []
  }
 ],
 "metadata": {
  "kernelspec": {
   "display_name": "Python 3",
   "language": "python",
   "name": "python3"
  },
  "language_info": {
   "codemirror_mode": {
    "name": "ipython",
    "version": 3
   },
   "file_extension": ".py",
   "mimetype": "text/x-python",
   "name": "python",
   "nbconvert_exporter": "python",
   "pygments_lexer": "ipython3",
   "version": "3.12.1"
  }
 },
 "nbformat": 4,
 "nbformat_minor": 2
}
